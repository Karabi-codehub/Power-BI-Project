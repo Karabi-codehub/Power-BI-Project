{
 "cells": [
  {
   "cell_type": "markdown",
   "id": "f61690cc-d9aa-418e-8d2c-dc478bab415a",
   "metadata": {},
   "source": [
    "**timedelta**\n",
    "\n",
    "**-** a gap or difference in time — like 2 days, 5 hours, or 10 minutes\n",
    "\n",
    "**-** timedelta(days=3, hours=5, minutes=30),This gives: 3 days, 5 hours, and 30 minutes\n",
    "\n",
    "👇👇👇"
   ]
  },
  {
   "cell_type": "code",
   "execution_count": 1,
   "id": "14794e8e-8070-4e8e-ab65-cd1e04ab6c11",
   "metadata": {},
   "outputs": [],
   "source": [
    "import pandas as pd\n",
    "from datetime import timedelta\n",
    "\n"
   ]
  },
  {
   "cell_type": "code",
   "execution_count": 2,
   "id": "cd81717e-023d-474e-a6fb-351d3f3c345b",
   "metadata": {},
   "outputs": [
    {
     "data": {
      "text/html": [
       "<div>\n",
       "<style scoped>\n",
       "    .dataframe tbody tr th:only-of-type {\n",
       "        vertical-align: middle;\n",
       "    }\n",
       "\n",
       "    .dataframe tbody tr th {\n",
       "        vertical-align: top;\n",
       "    }\n",
       "\n",
       "    .dataframe thead th {\n",
       "        text-align: right;\n",
       "    }\n",
       "</style>\n",
       "<table border=\"1\" class=\"dataframe\">\n",
       "  <thead>\n",
       "    <tr style=\"text-align: right;\">\n",
       "      <th></th>\n",
       "      <th>product_id</th>\n",
       "      <th>product_name</th>\n",
       "      <th>category</th>\n",
       "      <th>cost_price</th>\n",
       "      <th>selling_price</th>\n",
       "      <th>reorder_level</th>\n",
       "    </tr>\n",
       "  </thead>\n",
       "  <tbody>\n",
       "    <tr>\n",
       "      <th>0</th>\n",
       "      <td>1001</td>\n",
       "      <td>Organic Rice</td>\n",
       "      <td>Groceries</td>\n",
       "      <td>1551.26</td>\n",
       "      <td>2296.31</td>\n",
       "      <td>43</td>\n",
       "    </tr>\n",
       "    <tr>\n",
       "      <th>1</th>\n",
       "      <td>1002</td>\n",
       "      <td>Olive Oil</td>\n",
       "      <td>Groceries</td>\n",
       "      <td>2516.38</td>\n",
       "      <td>3370.60</td>\n",
       "      <td>39</td>\n",
       "    </tr>\n",
       "    <tr>\n",
       "      <th>2</th>\n",
       "      <td>1003</td>\n",
       "      <td>Canned Beans</td>\n",
       "      <td>Groceries</td>\n",
       "      <td>961.25</td>\n",
       "      <td>1117.36</td>\n",
       "      <td>30</td>\n",
       "    </tr>\n",
       "    <tr>\n",
       "      <th>3</th>\n",
       "      <td>1004</td>\n",
       "      <td>Pasta</td>\n",
       "      <td>Groceries</td>\n",
       "      <td>696.83</td>\n",
       "      <td>1007.94</td>\n",
       "      <td>36</td>\n",
       "    </tr>\n",
       "    <tr>\n",
       "      <th>4</th>\n",
       "      <td>1005</td>\n",
       "      <td>Coffee Beans</td>\n",
       "      <td>Groceries</td>\n",
       "      <td>2163.01</td>\n",
       "      <td>2991.94</td>\n",
       "      <td>27</td>\n",
       "    </tr>\n",
       "  </tbody>\n",
       "</table>\n",
       "</div>"
      ],
      "text/plain": [
       "   product_id  product_name   category  cost_price  selling_price  \\\n",
       "0        1001  Organic Rice  Groceries     1551.26        2296.31   \n",
       "1        1002     Olive Oil  Groceries     2516.38        3370.60   \n",
       "2        1003  Canned Beans  Groceries      961.25        1117.36   \n",
       "3        1004         Pasta  Groceries      696.83        1007.94   \n",
       "4        1005  Coffee Beans  Groceries     2163.01        2991.94   \n",
       "\n",
       "   reorder_level  \n",
       "0             43  \n",
       "1             39  \n",
       "2             30  \n",
       "3             36  \n",
       "4             27  "
      ]
     },
     "execution_count": 2,
     "metadata": {},
     "output_type": "execute_result"
    }
   ],
   "source": [
    "products_df=pd.read_csv('products.csv')\n",
    "\n",
    "products_df.head()"
   ]
  },
  {
   "cell_type": "code",
   "execution_count": 3,
   "id": "9e91b663-c4ab-4f86-bbd5-df41358ac898",
   "metadata": {},
   "outputs": [
    {
     "data": {
      "text/html": [
       "<div>\n",
       "<style scoped>\n",
       "    .dataframe tbody tr th:only-of-type {\n",
       "        vertical-align: middle;\n",
       "    }\n",
       "\n",
       "    .dataframe tbody tr th {\n",
       "        vertical-align: top;\n",
       "    }\n",
       "\n",
       "    .dataframe thead th {\n",
       "        text-align: right;\n",
       "    }\n",
       "</style>\n",
       "<table border=\"1\" class=\"dataframe\">\n",
       "  <thead>\n",
       "    <tr style=\"text-align: right;\">\n",
       "      <th></th>\n",
       "      <th>product_id</th>\n",
       "      <th>quantity_sold</th>\n",
       "      <th>sale_date</th>\n",
       "      <th>location</th>\n",
       "      <th>discount</th>\n",
       "    </tr>\n",
       "  </thead>\n",
       "  <tbody>\n",
       "    <tr>\n",
       "      <th>0</th>\n",
       "      <td>1013</td>\n",
       "      <td>4</td>\n",
       "      <td>2024-09-02</td>\n",
       "      <td>Rajshahi</td>\n",
       "      <td>52.178882</td>\n",
       "    </tr>\n",
       "    <tr>\n",
       "      <th>1</th>\n",
       "      <td>1064</td>\n",
       "      <td>9</td>\n",
       "      <td>2024-02-25</td>\n",
       "      <td>Sylhet</td>\n",
       "      <td>52.059982</td>\n",
       "    </tr>\n",
       "    <tr>\n",
       "      <th>2</th>\n",
       "      <td>1011</td>\n",
       "      <td>2</td>\n",
       "      <td>2024-02-07</td>\n",
       "      <td>Dhaka</td>\n",
       "      <td>7.370982</td>\n",
       "    </tr>\n",
       "    <tr>\n",
       "      <th>3</th>\n",
       "      <td>1019</td>\n",
       "      <td>2</td>\n",
       "      <td>2024-09-01</td>\n",
       "      <td>Sylhet</td>\n",
       "      <td>51.219448</td>\n",
       "    </tr>\n",
       "    <tr>\n",
       "      <th>4</th>\n",
       "      <td>1011</td>\n",
       "      <td>9</td>\n",
       "      <td>2024-01-21</td>\n",
       "      <td>Chittagong</td>\n",
       "      <td>82.274403</td>\n",
       "    </tr>\n",
       "  </tbody>\n",
       "</table>\n",
       "</div>"
      ],
      "text/plain": [
       "   product_id  quantity_sold   sale_date    location   discount\n",
       "0        1013              4  2024-09-02    Rajshahi  52.178882\n",
       "1        1064              9  2024-02-25      Sylhet  52.059982\n",
       "2        1011              2  2024-02-07       Dhaka   7.370982\n",
       "3        1019              2  2024-09-01      Sylhet  51.219448\n",
       "4        1011              9  2024-01-21  Chittagong  82.274403"
      ]
     },
     "execution_count": 3,
     "metadata": {},
     "output_type": "execute_result"
    }
   ],
   "source": [
    "sales_df=pd.read_csv('sales.csv')\n",
    "\n",
    "sales_df.head()"
   ]
  },
  {
   "cell_type": "markdown",
   "id": "40f97d67-2289-4c56-8e1e-e0e621eb097c",
   "metadata": {},
   "source": [
    "**1.pd.to_datetime(sales_df['sale_date'])**\n",
    "**-** This converts the 'sale_date' column to datetime format — so that Python understands it as a real date, not just plain text or string.\n",
    "\n",
    "Why-It lets you do date-based operations like sorting by date, filtering by year/month.'2024-09-02' → datetime object → 2024-09-02 00:00:00\n",
    "\n",
    "**2. .dt.date**\n",
    "**-** This part removes the time part and keeps only the date (like 2024-09-02 instead of 2024-09-02 00:00:00).\n",
    "\n",
    "**-** this line makes sure that:\n",
    "\n",
    "1.sale_date is a real date, not a string\n",
    "\n",
    "2.Only the date part (not time) is stored in the column\n",
    "\n",
    "**-** Without .dt.date, your column would still include time is time is given in data\n",
    "\n",
    "\n",
    "\n",
    "👇👇👇\n",
    "\n"
   ]
  },
  {
   "cell_type": "code",
   "execution_count": 4,
   "id": "580f61d5-22a0-4bdd-b063-b0481f3fc3de",
   "metadata": {},
   "outputs": [
    {
     "data": {
      "text/html": [
       "<div>\n",
       "<style scoped>\n",
       "    .dataframe tbody tr th:only-of-type {\n",
       "        vertical-align: middle;\n",
       "    }\n",
       "\n",
       "    .dataframe tbody tr th {\n",
       "        vertical-align: top;\n",
       "    }\n",
       "\n",
       "    .dataframe thead th {\n",
       "        text-align: right;\n",
       "    }\n",
       "</style>\n",
       "<table border=\"1\" class=\"dataframe\">\n",
       "  <thead>\n",
       "    <tr style=\"text-align: right;\">\n",
       "      <th></th>\n",
       "      <th>product_id</th>\n",
       "      <th>quantity_sold</th>\n",
       "      <th>sale_date</th>\n",
       "      <th>location</th>\n",
       "      <th>discount</th>\n",
       "    </tr>\n",
       "  </thead>\n",
       "  <tbody>\n",
       "    <tr>\n",
       "      <th>0</th>\n",
       "      <td>1013</td>\n",
       "      <td>4</td>\n",
       "      <td>2024-09-02</td>\n",
       "      <td>Rajshahi</td>\n",
       "      <td>52.178882</td>\n",
       "    </tr>\n",
       "    <tr>\n",
       "      <th>1</th>\n",
       "      <td>1064</td>\n",
       "      <td>9</td>\n",
       "      <td>2024-02-25</td>\n",
       "      <td>Sylhet</td>\n",
       "      <td>52.059982</td>\n",
       "    </tr>\n",
       "    <tr>\n",
       "      <th>2</th>\n",
       "      <td>1011</td>\n",
       "      <td>2</td>\n",
       "      <td>2024-02-07</td>\n",
       "      <td>Dhaka</td>\n",
       "      <td>7.370982</td>\n",
       "    </tr>\n",
       "    <tr>\n",
       "      <th>3</th>\n",
       "      <td>1019</td>\n",
       "      <td>2</td>\n",
       "      <td>2024-09-01</td>\n",
       "      <td>Sylhet</td>\n",
       "      <td>51.219448</td>\n",
       "    </tr>\n",
       "    <tr>\n",
       "      <th>4</th>\n",
       "      <td>1011</td>\n",
       "      <td>9</td>\n",
       "      <td>2024-01-21</td>\n",
       "      <td>Chittagong</td>\n",
       "      <td>82.274403</td>\n",
       "    </tr>\n",
       "  </tbody>\n",
       "</table>\n",
       "</div>"
      ],
      "text/plain": [
       "   product_id  quantity_sold   sale_date    location   discount\n",
       "0        1013              4  2024-09-02    Rajshahi  52.178882\n",
       "1        1064              9  2024-02-25      Sylhet  52.059982\n",
       "2        1011              2  2024-02-07       Dhaka   7.370982\n",
       "3        1019              2  2024-09-01      Sylhet  51.219448\n",
       "4        1011              9  2024-01-21  Chittagong  82.274403"
      ]
     },
     "execution_count": 4,
     "metadata": {},
     "output_type": "execute_result"
    }
   ],
   "source": [
    "sales_df['sale_date']=pd.to_datetime(sales_df['sale_date']).dt.date\n",
    "sales_df.head()"
   ]
  },
  {
   "cell_type": "code",
   "execution_count": 5,
   "id": "9557b879-1ec0-40d6-a5d1-f3af8e459f51",
   "metadata": {},
   "outputs": [
    {
     "data": {
      "text/plain": [
       "True"
      ]
     },
     "execution_count": 5,
     "metadata": {},
     "output_type": "execute_result"
    }
   ],
   "source": [
    "from datetime import datetime\n",
    "\n",
    "date1 = datetime.strptime('2024-09-01', '%Y-%m-%d').date()\n",
    "date2 = datetime.strptime('2024-09-03', '%Y-%m-%d').date()\n",
    "date = sales_df.iloc[0]['sale_date']\n",
    "\n",
    "date1 <= date <= date2 "
   ]
  },
  {
   "cell_type": "code",
   "execution_count": 6,
   "id": "265a2110-031f-4095-aa55-9fe851e85649",
   "metadata": {},
   "outputs": [
    {
     "data": {
      "text/html": [
       "<div>\n",
       "<style scoped>\n",
       "    .dataframe tbody tr th:only-of-type {\n",
       "        vertical-align: middle;\n",
       "    }\n",
       "\n",
       "    .dataframe tbody tr th {\n",
       "        vertical-align: top;\n",
       "    }\n",
       "\n",
       "    .dataframe thead th {\n",
       "        text-align: right;\n",
       "    }\n",
       "</style>\n",
       "<table border=\"1\" class=\"dataframe\">\n",
       "  <thead>\n",
       "    <tr style=\"text-align: right;\">\n",
       "      <th></th>\n",
       "      <th>product_id</th>\n",
       "      <th>quantity_purchased</th>\n",
       "      <th>purchase_date</th>\n",
       "    </tr>\n",
       "  </thead>\n",
       "  <tbody>\n",
       "    <tr>\n",
       "      <th>0</th>\n",
       "      <td>1095</td>\n",
       "      <td>94</td>\n",
       "      <td>2024-08-19</td>\n",
       "    </tr>\n",
       "    <tr>\n",
       "      <th>1</th>\n",
       "      <td>1054</td>\n",
       "      <td>23</td>\n",
       "      <td>2024-08-16</td>\n",
       "    </tr>\n",
       "    <tr>\n",
       "      <th>2</th>\n",
       "      <td>1058</td>\n",
       "      <td>64</td>\n",
       "      <td>2024-12-18</td>\n",
       "    </tr>\n",
       "    <tr>\n",
       "      <th>3</th>\n",
       "      <td>1067</td>\n",
       "      <td>57</td>\n",
       "      <td>2024-06-12</td>\n",
       "    </tr>\n",
       "    <tr>\n",
       "      <th>4</th>\n",
       "      <td>1046</td>\n",
       "      <td>91</td>\n",
       "      <td>2024-03-13</td>\n",
       "    </tr>\n",
       "  </tbody>\n",
       "</table>\n",
       "</div>"
      ],
      "text/plain": [
       "   product_id  quantity_purchased purchase_date\n",
       "0        1095                  94    2024-08-19\n",
       "1        1054                  23    2024-08-16\n",
       "2        1058                  64    2024-12-18\n",
       "3        1067                  57    2024-06-12\n",
       "4        1046                  91    2024-03-13"
      ]
     },
     "execution_count": 6,
     "metadata": {},
     "output_type": "execute_result"
    }
   ],
   "source": [
    "purchases_df=pd.read_csv('purchases.csv')\n",
    "\n",
    "purchases_df.head()"
   ]
  },
  {
   "cell_type": "code",
   "execution_count": 7,
   "id": "118df201-8f71-4434-bd7d-09bb9e353ebd",
   "metadata": {},
   "outputs": [
    {
     "data": {
      "text/html": [
       "<div>\n",
       "<style scoped>\n",
       "    .dataframe tbody tr th:only-of-type {\n",
       "        vertical-align: middle;\n",
       "    }\n",
       "\n",
       "    .dataframe tbody tr th {\n",
       "        vertical-align: top;\n",
       "    }\n",
       "\n",
       "    .dataframe thead th {\n",
       "        text-align: right;\n",
       "    }\n",
       "</style>\n",
       "<table border=\"1\" class=\"dataframe\">\n",
       "  <thead>\n",
       "    <tr style=\"text-align: right;\">\n",
       "      <th></th>\n",
       "      <th>product_id</th>\n",
       "      <th>quantity_purchased</th>\n",
       "      <th>purchase_date</th>\n",
       "    </tr>\n",
       "  </thead>\n",
       "  <tbody>\n",
       "    <tr>\n",
       "      <th>0</th>\n",
       "      <td>1095</td>\n",
       "      <td>94</td>\n",
       "      <td>2024-08-19</td>\n",
       "    </tr>\n",
       "    <tr>\n",
       "      <th>1</th>\n",
       "      <td>1054</td>\n",
       "      <td>23</td>\n",
       "      <td>2024-08-16</td>\n",
       "    </tr>\n",
       "    <tr>\n",
       "      <th>2</th>\n",
       "      <td>1058</td>\n",
       "      <td>64</td>\n",
       "      <td>2024-12-18</td>\n",
       "    </tr>\n",
       "    <tr>\n",
       "      <th>3</th>\n",
       "      <td>1067</td>\n",
       "      <td>57</td>\n",
       "      <td>2024-06-12</td>\n",
       "    </tr>\n",
       "    <tr>\n",
       "      <th>4</th>\n",
       "      <td>1046</td>\n",
       "      <td>91</td>\n",
       "      <td>2024-03-13</td>\n",
       "    </tr>\n",
       "  </tbody>\n",
       "</table>\n",
       "</div>"
      ],
      "text/plain": [
       "   product_id  quantity_purchased purchase_date\n",
       "0        1095                  94    2024-08-19\n",
       "1        1054                  23    2024-08-16\n",
       "2        1058                  64    2024-12-18\n",
       "3        1067                  57    2024-06-12\n",
       "4        1046                  91    2024-03-13"
      ]
     },
     "execution_count": 7,
     "metadata": {},
     "output_type": "execute_result"
    }
   ],
   "source": [
    "purchases_df['purchase_date']=pd.to_datetime(purchases_df['purchase_date']).dt.date\n",
    "purchases_df.head()"
   ]
  },
  {
   "cell_type": "markdown",
   "id": "cf46ff79-4d9a-4f07-a243-f265995b0524",
   "metadata": {},
   "source": [
    "# Step 1.Compute Current stock"
   ]
  },
  {
   "cell_type": "code",
   "execution_count": 8,
   "id": "4f391ff7-ec9b-4cb4-b5e1-65d92f1cd389",
   "metadata": {},
   "outputs": [
    {
     "data": {
      "text/html": [
       "<div>\n",
       "<style scoped>\n",
       "    .dataframe tbody tr th:only-of-type {\n",
       "        vertical-align: middle;\n",
       "    }\n",
       "\n",
       "    .dataframe tbody tr th {\n",
       "        vertical-align: top;\n",
       "    }\n",
       "\n",
       "    .dataframe thead th {\n",
       "        text-align: right;\n",
       "    }\n",
       "</style>\n",
       "<table border=\"1\" class=\"dataframe\">\n",
       "  <thead>\n",
       "    <tr style=\"text-align: right;\">\n",
       "      <th></th>\n",
       "      <th>product_id</th>\n",
       "      <th>quantity_purchased</th>\n",
       "      <th>purchase_date</th>\n",
       "    </tr>\n",
       "  </thead>\n",
       "  <tbody>\n",
       "    <tr>\n",
       "      <th>0</th>\n",
       "      <td>1095</td>\n",
       "      <td>94</td>\n",
       "      <td>2024-08-19</td>\n",
       "    </tr>\n",
       "    <tr>\n",
       "      <th>140</th>\n",
       "      <td>1095</td>\n",
       "      <td>66</td>\n",
       "      <td>2024-01-25</td>\n",
       "    </tr>\n",
       "    <tr>\n",
       "      <th>176</th>\n",
       "      <td>1095</td>\n",
       "      <td>16</td>\n",
       "      <td>2024-07-08</td>\n",
       "    </tr>\n",
       "    <tr>\n",
       "      <th>238</th>\n",
       "      <td>1095</td>\n",
       "      <td>27</td>\n",
       "      <td>2024-08-19</td>\n",
       "    </tr>\n",
       "    <tr>\n",
       "      <th>259</th>\n",
       "      <td>1095</td>\n",
       "      <td>72</td>\n",
       "      <td>2024-08-19</td>\n",
       "    </tr>\n",
       "    <tr>\n",
       "      <th>423</th>\n",
       "      <td>1095</td>\n",
       "      <td>85</td>\n",
       "      <td>2024-08-21</td>\n",
       "    </tr>\n",
       "    <tr>\n",
       "      <th>447</th>\n",
       "      <td>1095</td>\n",
       "      <td>11</td>\n",
       "      <td>2024-10-19</td>\n",
       "    </tr>\n",
       "    <tr>\n",
       "      <th>513</th>\n",
       "      <td>1095</td>\n",
       "      <td>72</td>\n",
       "      <td>2024-03-18</td>\n",
       "    </tr>\n",
       "    <tr>\n",
       "      <th>637</th>\n",
       "      <td>1095</td>\n",
       "      <td>33</td>\n",
       "      <td>2024-04-07</td>\n",
       "    </tr>\n",
       "    <tr>\n",
       "      <th>646</th>\n",
       "      <td>1095</td>\n",
       "      <td>60</td>\n",
       "      <td>2024-03-06</td>\n",
       "    </tr>\n",
       "    <tr>\n",
       "      <th>711</th>\n",
       "      <td>1095</td>\n",
       "      <td>66</td>\n",
       "      <td>2024-09-19</td>\n",
       "    </tr>\n",
       "    <tr>\n",
       "      <th>817</th>\n",
       "      <td>1095</td>\n",
       "      <td>79</td>\n",
       "      <td>2024-04-26</td>\n",
       "    </tr>\n",
       "  </tbody>\n",
       "</table>\n",
       "</div>"
      ],
      "text/plain": [
       "     product_id  quantity_purchased purchase_date\n",
       "0          1095                  94    2024-08-19\n",
       "140        1095                  66    2024-01-25\n",
       "176        1095                  16    2024-07-08\n",
       "238        1095                  27    2024-08-19\n",
       "259        1095                  72    2024-08-19\n",
       "423        1095                  85    2024-08-21\n",
       "447        1095                  11    2024-10-19\n",
       "513        1095                  72    2024-03-18\n",
       "637        1095                  33    2024-04-07\n",
       "646        1095                  60    2024-03-06\n",
       "711        1095                  66    2024-09-19\n",
       "817        1095                  79    2024-04-26"
      ]
     },
     "execution_count": 8,
     "metadata": {},
     "output_type": "execute_result"
    }
   ],
   "source": [
    "product_id = 1095\n",
    "purchases_df[purchases_df['product_id'] == product_id]\n"
   ]
  },
  {
   "cell_type": "code",
   "execution_count": 9,
   "id": "3486f4ec-bbda-4da0-8c61-16de23d15eb2",
   "metadata": {},
   "outputs": [
    {
     "data": {
      "text/plain": [
       "681"
      ]
     },
     "execution_count": 9,
     "metadata": {},
     "output_type": "execute_result"
    }
   ],
   "source": [
    "#quantity of purchased\n",
    "quantity_purchased=purchases_df[purchases_df['product_id'] == product_id]['quantity_purchased'].sum()\n",
    "quantity_purchased"
   ]
  },
  {
   "cell_type": "code",
   "execution_count": 10,
   "id": "bb150466-0113-418a-b0c2-da3decbb25ca",
   "metadata": {},
   "outputs": [
    {
     "data": {
      "text/plain": [
       "205"
      ]
     },
     "execution_count": 10,
     "metadata": {},
     "output_type": "execute_result"
    }
   ],
   "source": [
    "#quantity of sold\n",
    "quantity_sold=sales_df[sales_df['product_id']==product_id]['quantity_sold'].sum()\n",
    "quantity_sold"
   ]
  },
  {
   "cell_type": "code",
   "execution_count": 11,
   "id": "42535fcb-0be7-4cac-8c89-ec87ca91a7e0",
   "metadata": {},
   "outputs": [
    {
     "data": {
      "text/plain": [
       "476"
      ]
     },
     "execution_count": 11,
     "metadata": {},
     "output_type": "execute_result"
    }
   ],
   "source": [
    "#purchased-sold=current stock\n",
    "current_stock=quantity_purchased-quantity_sold\n",
    "current_stock"
   ]
  },
  {
   "cell_type": "code",
   "execution_count": 12,
   "id": "7b875f25-8a4b-48a7-9359-bd08d073ee6d",
   "metadata": {},
   "outputs": [
    {
     "ename": "TypeError",
     "evalue": "get_current_stock() missing 2 required positional arguments: 'purchases_df' and 'product_id'",
     "output_type": "error",
     "traceback": [
      "\u001b[0;31m---------------------------------------------------------------------------\u001b[0m",
      "\u001b[0;31mTypeError\u001b[0m                                 Traceback (most recent call last)",
      "Cell \u001b[0;32mIn[12], line 7\u001b[0m\n\u001b[1;32m      5\u001b[0m     current_stock\u001b[38;5;241m=\u001b[39mquantity_purchased\u001b[38;5;241m-\u001b[39mquantity_sold\n\u001b[1;32m      6\u001b[0m     \u001b[38;5;28;01mreturn\u001b[39;00m current_stock\n\u001b[0;32m----> 7\u001b[0m \u001b[38;5;28mprint\u001b[39m(get_current_stock(product_id))\n",
      "\u001b[0;31mTypeError\u001b[0m: get_current_stock() missing 2 required positional arguments: 'purchases_df' and 'product_id'"
     ]
    }
   ],
   "source": [
    "#If we use a function, we don’t need to manually calculate for each product \n",
    "def get_current_stock(sales_df, purchases_df, product_id):\n",
    "    quantity_purchased=purchases_df[purchases_df['product_id'] == product_id]['quantity_purchased'].sum()\n",
    "    quantity_sold=sales_df[sales_df['product_id']==product_id]['quantity_sold'].sum()\n",
    "    current_stock=quantity_purchased-quantity_sold\n",
    "    return current_stock\n",
    "print(get_current_stock(product_id)) \n"
   ]
  },
  {
   "cell_type": "markdown",
   "id": "a2fc7d40-589b-409c-8846-b9a2c0c5b6d0",
   "metadata": {},
   "source": [
    "| Code Part                            | Meaning                                                                                                                                                                                                                                                                                                                       |\n",
    "| ------------------------------------- | ----------------------------------------------------------------------------------------------------------------------------------------------------------------------------------------------------------------------------------------------------------------------------------------------------------------------------- |\n",
    "| **products\\_df\\['product\\_id']**          | Take the list of all product IDs from the table                                                                                                                                                                                                                                                                               |\n",
    "| **.apply(...)**                          | Run a function on every value in a **each product ID**. <br><br>**When we say:** .apply(lambda product\\_id: get\\_current\\_stock(product\\_id)) <br><br>**We are telling Python:** Take each product\\_id, send it to the get\\_current\\_stock() function, and save the answer.                                                 |\n",
    "| **lambda product\\_id: ...**               | Create a small function (just for now) .This is a temporary function used only once — to **calculate stock from product IDs** — so there’s no need to write a full def function for it. We’re creating this function temporarily, only to use inside **.apply()**, and then forget it.**we don’t want to define it separately using def** |\n",
    "| **get\\_current\\_stock(product\\_id)**      | Use your own function to calculate stock for that product |\n",
    "| **products\\_df\\['current\\_stock'] =**   | Save the result in a new column named `current_stock`|\n",
    "\n",
    "👇👇👇"
   ]
  },
  {
   "cell_type": "code",
   "execution_count": null,
   "id": "90672d68-b054-4691-a6e9-ed258098f100",
   "metadata": {},
   "outputs": [],
   "source": [
    "#after calculating current stock of every product id, add this current stock in products_df dataset\n",
    "products_df['current_stock']=products_df['product_id'].apply(lambda product_id:get_current_stock(product_id))\n",
    "products_df"
   ]
  },
  {
   "cell_type": "markdown",
   "id": "f8b53b58-8483-4b67-a0ab-92b628a5fb6a",
   "metadata": {},
   "source": [
    "# 2.compute profit per product\n",
    "\n",
    "**.iloc[0] means:**\n",
    "\"Get the first row of the result.\"\n",
    "\n",
    "More precisely:\n",
    "\n",
    "**-**.iloc stands for “integer location”\n",
    "\n",
    "**-** iloc[0] gets the first row (row at index 0)\n",
    "\n",
    "**-** If that row has just one value, you can use it as a single number or string\n"
   ]
  },
  {
   "cell_type": "code",
   "execution_count": null,
   "id": "c1f853f0-da76-43ac-bb2d-4254da9fa401",
   "metadata": {},
   "outputs": [],
   "source": [
    "def get_profit(products_df, sales_df, product_id):\n",
    "  quantity_sold=sales_df[sales_df['product_id']==product_id]['quantity_sold'].sum()\n",
    "  product=products_df[products_df['product_id']==product_id]\n",
    "  profit_per_sale=product['selling_price']-product['cost_price']\n",
    "  profit_per_sale=profit_per_sale.iloc[0]\n",
    "  total_profit=profit_per_sale * quantity_sold\n",
    "  return total_profit\n",
    "\n",
    "products_df['profit']=products_df['product_id'].apply(lambda product_id:get_profit(product_id))\n",
    "\n",
    "products_df.head()\n",
    "  "
   ]
  },
  {
   "cell_type": "markdown",
   "id": "7e0c9a65-eda5-4cd9-81c9-b27007bdcc09",
   "metadata": {},
   "source": [
    "# 3.Find the slow moving product\n",
    "\n",
    "Identify products that have low sales or low inventory turnover over a certain period of time.\n",
    "\n",
    "**Slow-moving products are items in your product list or inventory that:**\n",
    "\n",
    "**-** Sell infrequently or slowly\n",
    "\n",
    "**-** Stay in stock for a long time\n",
    "\n",
    "**-** Are not popular or in high demand\n",
    "\n",
    "**Why it's useful:**\n",
    "\n",
    "**-** Helps in inventory optimization\n",
    "\n",
    "**-** Guides marketing strategies for underperforming items\n",
    "\n",
    "**-** Reduces stock holding costs\n",
    "\n"
   ]
  },
  {
   "cell_type": "code",
   "execution_count": null,
   "id": "85272313-14b3-47cb-bdea-379f7880f1b4",
   "metadata": {},
   "outputs": [],
   "source": [
    "#Slow-moving products are those which sales < 40 during last 90 days\n",
    "#strptime():String Parse Time.It parses a string into a datetime object using a specified format.\n",
    "#Takes the string '2024-12-31' (a date in text format)\n",
    "#Converts it to a datetime object using the format 'Year-Month-Day'\n",
    "#Then .date() removes the time part and gives you just the date. Result: start_date = 2024-12-31\n",
    "from datetime import datetime\n",
    "start_date=datetime.strptime('2024-12-31','%Y-%m-%d').date()\n",
    "\n",
    "#cutoff_date:Show only records from the last 90 days\n",
    "cutoff_date = start_date - timedelta(days=90) \n",
    "print(cutoff_date) \n",
    "sales_df.head()"
   ]
  },
  {
   "cell_type": "code",
   "execution_count": null,
   "id": "a932a9da-c086-430f-959c-4a3cdf04eab1",
   "metadata": {},
   "outputs": [],
   "source": [
    "def is_slow_moving(sales_df, product_id):\n",
    "    start_date=datetime.strptime('2024-12-31','%Y-%m-%d').date()\n",
    "    cutoff_date = start_date - timedelta(days=90) \n",
    "    last_90_days_sales=sales_df[(sales_df['product_id'] == product_id) & (sales_df['sale_date'] >= cutoff_date)] #From the sales data, give me all rows where the product ID is what I’m looking for, and the sale date is not older than 90 days\n",
    "    total_recent_sales = last_90_days_sales['quantity_sold'].sum()\n",
    "    return total_recent_sales < 40 # if total recent sale in 90 days less that 40 then add this in as slow_moving item\n",
    "products_df['slow_moving'] = products_df['product_id'].apply(is_slow_moving)\n",
    "products_df.head()"
   ]
  },
  {
   "cell_type": "code",
   "execution_count": null,
   "id": "a0dcb5b3-ab48-46bd-857a-1ae263a3aff5",
   "metadata": {},
   "outputs": [],
   "source": [
    "#count the value how much slow moving cell are their\n",
    "products_df['slow_moving'].value_counts()"
   ]
  },
  {
   "cell_type": "markdown",
   "id": "84e66450-3d17-495b-b536-f4ec4929a268",
   "metadata": {},
   "source": [
    "# 4. Flag overstocked and understocked products\n",
    "\n",
    "✅ Identify which products in your inventory have too much stock or too little stock, and mark/label them so action can be taken.\n",
    "\n",
    "**📦 What does it mean practically?**\n",
    "In inventory or sales data:\n",
    "\n",
    "Overstocked = You have more inventory than needed → taking up space, increasing storage cost.\n",
    "\n",
    "Understocked = You have less inventory than needed → might run out, miss customer orders.\n",
    "\n",
    "**🏷️ What does “flag” mean?**\n",
    "\n",
    "Mark or label something with a status like:\n",
    "\n",
    "**Overstocked**\n",
    "\n",
    "**Understocked**\n",
    "\n",
    "**Normal**"
   ]
  },
  {
   "cell_type": "code",
   "execution_count": null,
   "id": "bd80cba5-9f07-4609-934e-eb29b5d152d2",
   "metadata": {},
   "outputs": [],
   "source": [
    "def get_stock_status(products_df, product_id):\n",
    "    product = products_df[products_df['product_id']== product_id].iloc[0]\n",
    "    stock = product['current_stock']\n",
    "    reorder = product['reorder_level']\n",
    "    if stock < reorder * 15: return 'Understocked' #If stock is less than 15 times the reorder level, mark as understocked\n",
    "    return 'Properly Stocked'\n",
    "    \n",
    "products_df['stock_status'] = products_df['product_id'].apply(get_stock_status)\n",
    "products_df.head() "
   ]
  },
  {
   "cell_type": "code",
   "execution_count": null,
   "id": "7661fb82-3460-4e09-ac26-2f76e74d628a",
   "metadata": {},
   "outputs": [],
   "source": [
    "products_df['stock_status'].value_counts()"
   ]
  },
  {
   "cell_type": "markdown",
   "id": "44a67bce-57d0-450c-a773-7ade50fe6b7e",
   "metadata": {},
   "source": [
    "# 5. Get Reveneu per product\n",
    "\n",
    "Money earned from selling a product (before subtracting any costs).\n",
    "\n",
    "**Revenue = Selling Price × Quantity Sold**"
   ]
  },
  {
   "cell_type": "code",
   "execution_count": null,
   "id": "2a49ab21-afe5-4173-8349-f15417754732",
   "metadata": {},
   "outputs": [],
   "source": [
    "def get_revenue(products_df, sales_df, product_id):\n",
    "    selling_price = products_df[products_df['product_id'] == product_id]['selling_price'].iloc[0]\n",
    "    quantity_sold = sales_df[sales_df['product_id'] == product_id]['quantity_sold'].sum()\n",
    "    revenue = selling_price * quantity_sold\n",
    "    return revenue\n",
    "    "
   ]
  },
  {
   "cell_type": "markdown",
   "id": "46cfad29-ab58-4368-8ecf-d4356f69ef7c",
   "metadata": {},
   "source": [
    "# 6. Queries business data\n",
    "\n",
    "Asking questions to your data to get specific answers that help in making business decisions.like -**Sales,category,Customers,Profits,Inventory,location,Revenue,Orders,Employee performance**\n"
   ]
  },
  {
   "cell_type": "code",
   "execution_count": null,
   "id": "4da671f0-313d-406b-a7ca-fafa17f6c0ad",
   "metadata": {},
   "outputs": [],
   "source": [
    "#This function filters the sales_df DataFrame and returns only the sales that: -Happened within a specific date range\n",
    "                                                                              #-Took place in specific locations\n",
    "\n",
    "def get_sales_between_dates(sales_df, start_date, end_date, locations):\n",
    "    return sales_df[(sales_df['sale_date'] >= start_date)& (sales_df['sale_date'] <= end_date)& (sales_df['location'].isin(locations))] \n",
    "    #Give me all sales from specific dates and specific locations."
   ]
  },
  {
   "cell_type": "code",
   "execution_count": null,
   "id": "131c46da-f330-42b2-94e0-9adb8ecb1ec9",
   "metadata": {},
   "outputs": [],
   "source": [
    "products_df['category'].value_counts()"
   ]
  },
  {
   "cell_type": "code",
   "execution_count": null,
   "id": "c9015942-60e9-4877-bdec-6e1e0c5f3376",
   "metadata": {},
   "outputs": [],
   "source": [
    "def get_products_of_selected_categories(products_df, categories):\n",
    "    return products_df[products_df['category'].isin(categories)]"
   ]
  },
  {
   "cell_type": "code",
   "execution_count": null,
   "id": "880a9efc-6f93-4aa1-aa24-51079921d985",
   "metadata": {},
   "outputs": [],
   "source": [
    "def get_under_stocked_products(products_df):\n",
    "    return products_df[products_df['stock_status'] == 'Understocked']"
   ]
  },
  {
   "cell_type": "markdown",
   "id": "2377acb9-200b-4b62-9a0d-a0b1a11317c5",
   "metadata": {},
   "source": [
    " # 6.KPIs\n",
    " **KPI = Key Performance Indicator**.\n",
    " A KPI is a measurable value that shows how well a business, team, or process is performing against a specific goal.\n",
    "\n",
    "In a business dashboard, KPIs are shown as important metrics — often using cards, gauges, or charts — to give quick insights into performance.\n",
    "Examples of KPIs in a Dashboard:\n",
    " | Business Area    | KPI Example                            |\n",
    "| ---------------- | -------------------------------------- |\n",
    "| Sales            | 🔹 Total Revenue                       |\n",
    "| Inventory        | 🔹 Stock Turnover Rate                 |\n",
    "| Marketing        | 🔹 Conversion Rate                     |\n",
    "| Customer Service | 🔹 Average Response Time               |\n",
    "| Finance          | 🔹 Net Profit Margin                   |\n",
    "| E-commerce       | 🔹 Number of Orders, Cart Abandon Rate |\n"
   ]
  },
  {
   "cell_type": "code",
   "execution_count": null,
   "id": "e86d24fc-b11a-45a7-bfce-7b7231d79782",
   "metadata": {},
   "outputs": [],
   "source": [
    "def get_summary_Kpis(products_df,sales_df): #The function will return important business summary KPIs (key numbers).\n",
    "    #alculate revenue\n",
    "    total_revenue = products_df['product_id'].apply(lambda product_id:get_revenue(products_df, sales_df, product_id)).sum() \n",
    "                                                                #For each product ID, it calls a get_revenue(...) function to calculate revenue.\n",
    "                                                                # .sum() adds up the revenue for all products.\n",
    "                                                                # total_revenue = total money earned from sales (before subtracting cost).\n",
    "    total_profit = products_df['profit'].sum()#Adds up the profit in profit column in products_df of all products.\n",
    "    total_units_sold = sales_df['quantity_sold'].sum()\n",
    "    total_understocked_products = len(get_under_stocked_products(products_df))#That function returns a list or table of products that are understocked\n",
    "    return { \n",
    "            'Total Revenue (K)': int(total_revenue/1e3),\n",
    "            'Total Profit (K)': int(total_profit/1e3),\n",
    "            'Total Units Sold (K)': int(total_units_sold/1e3),\n",
    "            'Total Understocked Products': total_understocked_products}                                                                      #Then len(...) counts how many such products there are.\n",
    "                    #Returns all the KPIs in a dictionary ({ key: value })\n",
    "#1e3 = 1 × 10³\n",
    "\n",
    "#total_revenue / 1e3 = revenue in thousands\n",
    "\n",
    "#int(...) = remove decimal (round down)\n",
    "\n",
    "    "
   ]
  },
  {
   "cell_type": "code",
   "execution_count": null,
   "id": "c48bf3e7-329c-4caf-b394-b7ca95be9e1a",
   "metadata": {},
   "outputs": [],
   "source": [
    "products_df['category'].unique()"
   ]
  },
  {
   "cell_type": "markdown",
   "id": "34bc6e9e-07e0-42ca-af65-0993259ec836",
   "metadata": {},
   "source": [
    "# 7.Filtering and Analysis in KPIs\n",
    "In a Power BI project, Filtering and Analysis is the first step to generate relevant KPIs\n",
    "✅ Why Filtering?\n",
    "Filtering helps to focus on specific data — like:\n",
    "\n",
    "-A certain time period (e.g., Jan–Dec 2024)\n",
    "\n",
    "A specific location (e.g., Dhaka)\n",
    "\n",
    "A certain product category (e.g., Groceries)\n",
    "\n",
    "🔍 Without filtering, you’d mix all sales from all locations and categories — which makes KPIs less meaningful.\n",
    "\n",
    "✅ Why Analysis?\n",
    "Once the data is filtered, you analyze it to calculate meaningful metrics — i.e., KPIs, such as:\n",
    "\n",
    "📈 Total Revenue\n",
    "\n",
    "💰 Total Profit\n",
    "\n",
    "📦 Understocked Products\n",
    "\n",
    "🔄 Best-selling Products\n",
    "\n",
    "\n",
    "\n"
   ]
  },
  {
   "cell_type": "code",
   "execution_count": null,
   "id": "c56d67e1-d362-4687-a35f-164b2194e9d8",
   "metadata": {},
   "outputs": [],
   "source": [
    "# ✅ We define a specific date range (e.g., full year of 2024) \n",
    "#    because we want to analyze sales **within that time period** only.\n",
    "start_date = datetime.strptime('2024-01-01', '%Y-%m-%d').date()\n",
    "end_date = datetime.strptime('2024-12-31', '%Y-%m-%d').date()\n",
    "\n",
    "# ✅ We filter by location (e.g., 'Dhaka') \n",
    "#    because we may have sales data from multiple cities, \n",
    "#    but we are interested in analyzing Dhaka specifically.\n",
    "selected_locations = ['Dhaka']\n",
    "\n",
    "# ✅ We filter by product categories (e.g., 'Groceries') \n",
    "#    to focus on a specific group of products and ignore unrelated categories like Electronics or Clothing.\n",
    "selected_categories = ['Groceries']\n"
   ]
  },
  {
   "cell_type": "code",
   "execution_count": null,
   "id": "62c23039-1a22-41d2-be90-954996823d9d",
   "metadata": {},
   "outputs": [],
   "source": [
    "#✅Filter the sales data for the selected date range and location(s)(e.g., 'Dhaka') \n",
    "#    because we may have sales data from multiple cities, \n",
    "#    but we are interested in analyzing Dhaka specifically.\n",
    "filtered_sales = get_sales_between_dates(sales_df,start_date, end_date,selected_locations)\n",
    "filtered_sales.head()\n"
   ]
  },
  {
   "cell_type": "code",
   "execution_count": null,
   "id": "186df203-df7d-40f1-bd9f-c2a4fe7054e1",
   "metadata": {},
   "outputs": [],
   "source": [
    "# ✅ We filter by product categories (e.g., 'Groceries') \n",
    "#    to focus on a specific group of products and ignore unrelated categories like Electronics or Clothing.\n",
    "\n",
    "filtered_products = get_products_of_selected_categories(products_df,selected_categories)\n",
    "\n",
    "filtered_products.head()"
   ]
  },
  {
   "cell_type": "code",
   "execution_count": null,
   "id": "057ede07-c511-4afc-acee-53e08caf62f1",
   "metadata": {},
   "outputs": [],
   "source": [
    "# ✅ We find understocked products \n",
    "#    to identify which grocery items have low stock and might run out soon.\n",
    "#    This is useful for inventory planning and restocking decisions.\n",
    "\n",
    "understocked_products = get_under_stocked_products( filtered_products)\n",
    "understocked_products.head()\n"
   ]
  },
  {
   "cell_type": "markdown",
   "id": "666dda22-ff79-4b49-b321-780861148659",
   "metadata": {},
   "source": [
    "# Summary KPIs"
   ]
  },
  {
   "cell_type": "code",
   "execution_count": null,
   "id": "7371291d-cbbe-448c-97f0-5f2037270a41",
   "metadata": {},
   "outputs": [],
   "source": [
    "get_summary_Kpis(filtered_products,filtered_sales)\n"
   ]
  },
  {
   "cell_type": "code",
   "execution_count": null,
   "id": "036ff648-2ded-4a79-9da3-ea36fc849cd2",
   "metadata": {},
   "outputs": [],
   "source": [
    "products_df.columns"
   ]
  },
  {
   "cell_type": "code",
   "execution_count": null,
   "id": "707efd65-a52a-4fea-a539-36f897f65e01",
   "metadata": {},
   "outputs": [],
   "source": [
    "sales_df.columns"
   ]
  },
  {
   "cell_type": "code",
   "execution_count": null,
   "id": "3253fcc9-c9ea-4b15-a348-016e409a4fc7",
   "metadata": {},
   "outputs": [],
   "source": [
    "purchases_df.columns"
   ]
  },
  {
   "cell_type": "markdown",
   "id": "d02f8279-6aac-4adf-82be-ccb4c8e81e8e",
   "metadata": {},
   "source": [
    "# Visualization using Plotly"
   ]
  },
  {
   "cell_type": "code",
   "execution_count": null,
   "id": "e716191f-09c2-4706-af07-b48130fa434d",
   "metadata": {},
   "outputs": [],
   "source": [
    "import plotly.express as px\n",
    "top_products = filtered_products.nlargest(10, 'profit')[['product_name', 'profit']]\n",
    "print(top_products)\n",
    "plot1 = px.bar(top_products, x='product_name', y='profit', title=\"Top 10 Products by Profit\")"
   ]
  },
  {
   "cell_type": "code",
   "execution_count": null,
   "id": "5744d56c-d252-4f03-a354-0cf6321edf97",
   "metadata": {},
   "outputs": [],
   "source": [
    "plot1.show()"
   ]
  },
  {
   "cell_type": "code",
   "execution_count": null,
   "id": "6e3ae380-c253-4508-9603-4d0915e3dd1b",
   "metadata": {},
   "outputs": [],
   "source": [
    "category_profit = filtered_products.groupby('category')['profit'].sum().reset_index()\n",
    "plot2 = px.pie(category_profit, values='profit', names='category', title=\"Profit Distribution by Category\")\n",
    "plot2.show()"
   ]
  },
  {
   "cell_type": "markdown",
   "id": "42ae65b5-8ffe-41e5-8859-1ff45b35a263",
   "metadata": {},
   "source": [
    "# Tables"
   ]
  },
  {
   "cell_type": "code",
   "execution_count": null,
   "id": "619b91a1-14af-408d-a0ab-b987e02e5b77",
   "metadata": {},
   "outputs": [],
   "source": [
    "summary_df = filtered_products[['product_name', 'category', 'current_stock', 'reorder_level', 'profit', 'stock_status']]\n",
    "summary_df.head()"
   ]
  },
  {
   "cell_type": "code",
   "execution_count": null,
   "id": "70be38ca-be0f-49ec-aa40-81bddee8ea40",
   "metadata": {},
   "outputs": [],
   "source": []
  }
 ],
 "metadata": {
  "kernelspec": {
   "display_name": "Python 3 (ipykernel)",
   "language": "python",
   "name": "python3"
  },
  "language_info": {
   "codemirror_mode": {
    "name": "ipython",
    "version": 3
   },
   "file_extension": ".py",
   "mimetype": "text/x-python",
   "name": "python",
   "nbconvert_exporter": "python",
   "pygments_lexer": "ipython3",
   "version": "3.11.7"
  }
 },
 "nbformat": 4,
 "nbformat_minor": 5
}
